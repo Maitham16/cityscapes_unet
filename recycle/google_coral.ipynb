{
 "cells": [
  {
   "cell_type": "code",
   "execution_count": 1,
   "metadata": {},
   "outputs": [
    {
     "name": "stderr",
     "output_type": "stream",
     "text": [
      "2024-06-26 03:01:20.884319: I tensorflow/core/util/port.cc:113] oneDNN custom operations are on. You may see slightly different numerical results due to floating-point round-off errors from different computation orders. To turn them off, set the environment variable `TF_ENABLE_ONEDNN_OPTS=0`.\n",
      "2024-06-26 03:01:20.923919: I tensorflow/core/platform/cpu_feature_guard.cc:210] This TensorFlow binary is optimized to use available CPU instructions in performance-critical operations.\n",
      "To enable the following instructions: AVX2 AVX512F AVX512_VNNI FMA, in other operations, rebuild TensorFlow with the appropriate compiler flags.\n",
      "2024-06-26 03:01:21.570327: W tensorflow/compiler/tf2tensorrt/utils/py_utils.cc:38] TF-TRT Warning: Could not find TensorRT\n"
     ]
    },
    {
     "name": "stdout",
     "output_type": "stream",
     "text": [
      "Model file found at: /home/maith/Desktop/Cityscapes/models/cityScapes.keras\n"
     ]
    },
    {
     "name": "stderr",
     "output_type": "stream",
     "text": [
      "2024-06-26 03:01:23.253067: E external/local_xla/xla/stream_executor/cuda/cuda_driver.cc:282] failed call to cuInit: CUDA_ERROR_UNKNOWN: unknown error\n",
      "2024-06-26 03:01:23.253099: I external/local_xla/xla/stream_executor/cuda/cuda_diagnostics.cc:134] retrieving CUDA diagnostic information for host: debian\n",
      "2024-06-26 03:01:23.253102: I external/local_xla/xla/stream_executor/cuda/cuda_diagnostics.cc:141] hostname: debian\n",
      "2024-06-26 03:01:23.253191: I external/local_xla/xla/stream_executor/cuda/cuda_diagnostics.cc:165] libcuda reported version is: 555.42.2\n",
      "2024-06-26 03:01:23.253204: I external/local_xla/xla/stream_executor/cuda/cuda_diagnostics.cc:169] kernel reported version is: 555.42.2\n",
      "2024-06-26 03:01:23.253206: I external/local_xla/xla/stream_executor/cuda/cuda_diagnostics.cc:248] kernel version seems to match DSO: 555.42.2\n"
     ]
    },
    {
     "name": "stdout",
     "output_type": "stream",
     "text": [
      "Model loaded successfully.\n",
      "INFO:tensorflow:Assets written to: /home/maith/Desktop/Cityscapes/models/saved_model/assets\n"
     ]
    },
    {
     "name": "stderr",
     "output_type": "stream",
     "text": [
      "INFO:tensorflow:Assets written to: /home/maith/Desktop/Cityscapes/models/saved_model/assets\n"
     ]
    },
    {
     "ename": "",
     "evalue": "",
     "output_type": "error",
     "traceback": [
      "\u001b[1;31mThe Kernel crashed while executing code in the current cell or a previous cell. \n",
      "\u001b[1;31mPlease review the code in the cell(s) to identify a possible cause of the failure. \n",
      "\u001b[1;31mClick <a href='https://aka.ms/vscodeJupyterKernelCrash'>here</a> for more info. \n",
      "\u001b[1;31mView Jupyter <a href='command:jupyter.viewOutput'>log</a> for further details."
     ]
    }
   ],
   "source": [
    "import tensorflow as tf\n",
    "import os\n",
    "\n",
    "# Paths\n",
    "model_path = '/home/maith/Desktop/Cityscapes/models/cityScapes.keras'\n",
    "saved_model_dir = '/home/maith/Desktop/Cityscapes/models/saved_model'\n",
    "tflite_model_path = '/home/maith/Desktop/Cityscapes/models/model.tflite'\n",
    "\n",
    "# Step 1: Load the model\n",
    "if os.path.exists(model_path):\n",
    "    print(f\"Model file found at: {model_path}\")\n",
    "\n",
    "    try:\n",
    "        model = tf.keras.models.load_model(model_path)\n",
    "        print(\"Model loaded successfully.\")\n",
    "    except Exception as e:\n",
    "        print(f\"Error loading model: {e}\")\n",
    "else:\n",
    "    print(f\"Model file not found at: {model_path}. Please check the path and try again.\")\n",
    "\n",
    "# Step 2: Save the model in TensorFlow SavedModel format\n",
    "try:\n",
    "    tf.saved_model.save(model, saved_model_dir)\n",
    "    print(f\"Model saved in TensorFlow SavedModel format at: {saved_model_dir}\")\n",
    "except Exception as e:\n",
    "    print(f\"Error saving model: {e}\")\n",
    "\n",
    "# Step 3: Verify the SavedModel directory\n",
    "if os.path.exists(saved_model_dir):\n",
    "    print(\"SavedModel directory contains:\")\n",
    "    print(os.listdir(saved_model_dir))\n",
    "else:\n",
    "    print(f\"SavedModel directory not found at: {saved_model_dir}\")\n",
    "\n",
    "# Step 4: Convert the SavedModel to TensorFlow Lite format with debugging\n",
    "try:\n",
    "    converter = tf.lite.TFLiteConverter.from_saved_model(saved_model_dir)\n",
    "    converter.experimental_new_converter = True\n",
    "    tflite_model = converter.convert()\n",
    "    with open(tflite_model_path, 'wb') as f:\n",
    "        f.write(tflite_model)\n",
    "    print(f\"Model converted to TensorFlow Lite format and saved at: {tflite_model_path}\")\n",
    "except Exception as e:\n",
    "    print(f\"Error converting model to TensorFlow Lite: {e}\")"
   ]
  }
 ],
 "metadata": {
  "kernelspec": {
   "display_name": "Python 3",
   "language": "python",
   "name": "python3"
  },
  "language_info": {
   "codemirror_mode": {
    "name": "ipython",
    "version": 3
   },
   "file_extension": ".py",
   "mimetype": "text/x-python",
   "name": "python",
   "nbconvert_exporter": "python",
   "pygments_lexer": "ipython3",
   "version": "3.11.2"
  }
 },
 "nbformat": 4,
 "nbformat_minor": 2
}
